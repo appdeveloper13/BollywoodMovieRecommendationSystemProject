{
 "cells": [
  {
   "cell_type": "code",
   "execution_count": null,
   "id": "40421c35",
   "metadata": {},
   "outputs": [],
   "source": [
    "#importing the libraries\n",
    "import pandas as pd\n",
    "from sklearn.feature_extraction.text import TfidfVectorizer\n",
    "from sklearn.metrics.pairwise import cosine_similarity"
   ]
  },
  {
   "cell_type": "code",
   "execution_count": null,
   "id": "23e3f9bb",
   "metadata": {},
   "outputs": [
    {
     "name": "stdout",
     "output_type": "stream",
     "text": [
      "   movie_id            title            genre         director  \\\n",
      "0         1           Sholay     Action,Drama     Ramesh Sippy   \n",
      "1         2              War  Action,Thriller  Siddharth Anand   \n",
      "2         3              Don     Action,Crime    Farhan Akhtar   \n",
      "3         4  Tiger Zinda Hai  Action,Thriller  Ali Abbas Zafar   \n",
      "4         5        Bang Bang   Action,Romance  Siddharth Anand   \n",
      "\n",
      "                           actors language  release_year  duration_minutes  \\\n",
      "0     Amitabh Bachchan,Dharmendra    Hindi          1975               204   \n",
      "1     Hrithik Roshan,Tiger Shroff    Hindi          2019               154   \n",
      "2  Shah Rukh Khan,Priyanka Chopra    Hindi          2006               171   \n",
      "3        Salman Khan,Katrina Kaif    Hindi          2017               161   \n",
      "4     Hrithik Roshan,Katrina Kaif    Hindi          2014               153   \n",
      "\n",
      "   imdb_rating                                        description  \n",
      "0          8.2  Two criminals hired to capture a ruthless bandit.  \n",
      "1          6.5  A soldier goes rogue; another is sent to hunt ...  \n",
      "2          7.2  A mysterious man takes the identity of a wante...  \n",
      "3          6.0      RAW agent Tiger returns for a rescue mission.  \n",
      "4          5.5  An ordinary bank employee gets entangled with ...  \n"
     ]
    }
   ],
   "source": [
    "#loading csv file\n",
    "df = pd.read_csv('Bollywoodmovies.csv', nrows=5)\n",
    "print(df)"
   ]
  },
  {
   "cell_type": "code",
   "execution_count": null,
   "id": "5b611df1",
   "metadata": {},
   "outputs": [
    {
     "name": "stdout",
     "output_type": "stream",
     "text": [
      "True\n"
     ]
    }
   ],
   "source": [
    "#checing if the file is loaded correctly\n",
    "import os\n",
    "print(os.path.exists('Bollywoodmovies.csv'))"
   ]
  },
  {
   "cell_type": "code",
   "execution_count": null,
   "id": "504d0f60",
   "metadata": {},
   "outputs": [
    {
     "name": "stdout",
     "output_type": "stream",
     "text": [
      "2.2.3\n"
     ]
    }
   ],
   "source": [
    "#check the version of panda\n",
    "import pandas as pd\n",
    "print(pd.__version__)"
   ]
  },
  {
   "cell_type": "code",
   "execution_count": null,
   "id": "e9baaf45",
   "metadata": {},
   "outputs": [
    {
     "data": {
      "text/html": [
       "<div>\n",
       "<style scoped>\n",
       "    .dataframe tbody tr th:only-of-type {\n",
       "        vertical-align: middle;\n",
       "    }\n",
       "\n",
       "    .dataframe tbody tr th {\n",
       "        vertical-align: top;\n",
       "    }\n",
       "\n",
       "    .dataframe thead th {\n",
       "        text-align: right;\n",
       "    }\n",
       "</style>\n",
       "<table border=\"1\" class=\"dataframe\">\n",
       "  <thead>\n",
       "    <tr style=\"text-align: right;\">\n",
       "      <th></th>\n",
       "      <th>movie_id</th>\n",
       "      <th>title</th>\n",
       "      <th>genre</th>\n",
       "      <th>director</th>\n",
       "      <th>actors</th>\n",
       "      <th>language</th>\n",
       "      <th>release_year</th>\n",
       "      <th>duration_minutes</th>\n",
       "      <th>imdb_rating</th>\n",
       "      <th>description</th>\n",
       "    </tr>\n",
       "  </thead>\n",
       "  <tbody>\n",
       "    <tr>\n",
       "      <th>0</th>\n",
       "      <td>1</td>\n",
       "      <td>Sholay</td>\n",
       "      <td>Action,Drama</td>\n",
       "      <td>Ramesh Sippy</td>\n",
       "      <td>Amitabh Bachchan,Dharmendra</td>\n",
       "      <td>Hindi</td>\n",
       "      <td>1975</td>\n",
       "      <td>204</td>\n",
       "      <td>8.2</td>\n",
       "      <td>Two criminals hired to capture a ruthless bandit.</td>\n",
       "    </tr>\n",
       "    <tr>\n",
       "      <th>1</th>\n",
       "      <td>2</td>\n",
       "      <td>War</td>\n",
       "      <td>Action,Thriller</td>\n",
       "      <td>Siddharth Anand</td>\n",
       "      <td>Hrithik Roshan,Tiger Shroff</td>\n",
       "      <td>Hindi</td>\n",
       "      <td>2019</td>\n",
       "      <td>154</td>\n",
       "      <td>6.5</td>\n",
       "      <td>A soldier goes rogue; another is sent to hunt ...</td>\n",
       "    </tr>\n",
       "    <tr>\n",
       "      <th>2</th>\n",
       "      <td>3</td>\n",
       "      <td>Don</td>\n",
       "      <td>Action,Crime</td>\n",
       "      <td>Farhan Akhtar</td>\n",
       "      <td>Shah Rukh Khan,Priyanka Chopra</td>\n",
       "      <td>Hindi</td>\n",
       "      <td>2006</td>\n",
       "      <td>171</td>\n",
       "      <td>7.2</td>\n",
       "      <td>A mysterious man takes the identity of a wante...</td>\n",
       "    </tr>\n",
       "    <tr>\n",
       "      <th>3</th>\n",
       "      <td>4</td>\n",
       "      <td>Tiger Zinda Hai</td>\n",
       "      <td>Action,Thriller</td>\n",
       "      <td>Ali Abbas Zafar</td>\n",
       "      <td>Salman Khan,Katrina Kaif</td>\n",
       "      <td>Hindi</td>\n",
       "      <td>2017</td>\n",
       "      <td>161</td>\n",
       "      <td>6.0</td>\n",
       "      <td>RAW agent Tiger returns for a rescue mission.</td>\n",
       "    </tr>\n",
       "    <tr>\n",
       "      <th>4</th>\n",
       "      <td>5</td>\n",
       "      <td>Bang Bang</td>\n",
       "      <td>Action,Romance</td>\n",
       "      <td>Siddharth Anand</td>\n",
       "      <td>Hrithik Roshan,Katrina Kaif</td>\n",
       "      <td>Hindi</td>\n",
       "      <td>2014</td>\n",
       "      <td>153</td>\n",
       "      <td>5.5</td>\n",
       "      <td>An ordinary bank employee gets entangled with ...</td>\n",
       "    </tr>\n",
       "  </tbody>\n",
       "</table>\n",
       "</div>"
      ],
      "text/plain": [
       "   movie_id            title            genre         director  \\\n",
       "0         1           Sholay     Action,Drama     Ramesh Sippy   \n",
       "1         2              War  Action,Thriller  Siddharth Anand   \n",
       "2         3              Don     Action,Crime    Farhan Akhtar   \n",
       "3         4  Tiger Zinda Hai  Action,Thriller  Ali Abbas Zafar   \n",
       "4         5        Bang Bang   Action,Romance  Siddharth Anand   \n",
       "\n",
       "                           actors language  release_year  duration_minutes  \\\n",
       "0     Amitabh Bachchan,Dharmendra    Hindi          1975               204   \n",
       "1     Hrithik Roshan,Tiger Shroff    Hindi          2019               154   \n",
       "2  Shah Rukh Khan,Priyanka Chopra    Hindi          2006               171   \n",
       "3        Salman Khan,Katrina Kaif    Hindi          2017               161   \n",
       "4     Hrithik Roshan,Katrina Kaif    Hindi          2014               153   \n",
       "\n",
       "   imdb_rating                                        description  \n",
       "0          8.2  Two criminals hired to capture a ruthless bandit.  \n",
       "1          6.5  A soldier goes rogue; another is sent to hunt ...  \n",
       "2          7.2  A mysterious man takes the identity of a wante...  \n",
       "3          6.0      RAW agent Tiger returns for a rescue mission.  \n",
       "4          5.5  An ordinary bank employee gets entangled with ...  "
      ]
     },
     "execution_count": 25,
     "metadata": {},
     "output_type": "execute_result"
    }
   ],
   "source": [
    "#loading the dataset\n",
    "movies = pd.read_csv('Bollywoodmovies.csv')\n",
    "movies.head()"
   ]
  },
  {
   "cell_type": "code",
   "execution_count": null,
   "id": "21156c9e",
   "metadata": {},
   "outputs": [
    {
     "data": {
      "text/plain": [
       "0    Sholay Action,Drama Ramesh Sippy Amitabh Bachc...\n",
       "1    War Action,Thriller Siddharth Anand Hrithik Ro...\n",
       "2    Don Action,Crime Farhan Akhtar Shah Rukh Khan,...\n",
       "3    Tiger Zinda Hai Action,Thriller Ali Abbas Zafa...\n",
       "4    Bang Bang Action,Romance Siddharth Anand Hrith...\n",
       "Name: combined_features, dtype: object"
      ]
     },
     "execution_count": 4,
     "metadata": {},
     "output_type": "execute_result"
    }
   ],
   "source": [
    "#combining relevant data into a single string(for vectorization)\n",
    "import pandas as pd\n",
    "\n",
    "df = pd.read_csv(\"Bollywoodmovies.csv\")  # Replace with your actual CSV file name\n",
    "def combine_features(row):\n",
    "    return f\"{row['title']} {row['genre']} {row['director']} {row['actors']} {row['description']}\"\n",
    "\n",
    "df['combined_features'] = df.apply(combine_features, axis=1)\n",
    "df['combined_features'].head()"
   ]
  },
  {
   "cell_type": "code",
   "execution_count": 6,
   "id": "e7810d94",
   "metadata": {},
   "outputs": [],
   "source": [
    "#convert text data to TF-IDF vectors\n",
    "from sklearn.feature_extraction.text import TfidfVectorizer\n",
    "tfidf = TfidfVectorizer(stop_words='english')\n",
    "tfidf_matrix = tfidf.fit_transform(df['combined_features'])"
   ]
  },
  {
   "cell_type": "code",
   "execution_count": 11,
   "id": "38e6273a",
   "metadata": {},
   "outputs": [],
   "source": [
    "#computing the cosoine similarity between movies\n",
    "from sklearn.metrics.pairwise import linear_kernel\n",
    "cosine_sim = linear_kernel(tfidf_matrix, tfidf_matrix)\n"
   ]
  },
  {
   "cell_type": "code",
   "execution_count": 12,
   "id": "5f078843",
   "metadata": {},
   "outputs": [],
   "source": [
    "#reverse idex for titles of movies\n",
    "indices = pd.Series(df.index, index=df['title']).drop_duplicates()"
   ]
  },
  {
   "cell_type": "code",
   "execution_count": 19,
   "id": "f06062d6",
   "metadata": {},
   "outputs": [
    {
     "name": "stdout",
     "output_type": "stream",
     "text": [
      "Recommended movies similar to 'Drishyam':\n",
      "           title  imdb_rating language\n",
      "32     Andhadhun          8.3    Hindi\n",
      "34       Kahaani          8.1    Hindi\n",
      "38  A Wednesday!          8.1    Hindi\n",
      "39    Special 26          8.0    Hindi\n",
      "37         Badla          7.8    Hindi\n",
      "36         Raazi          7.7    Hindi\n",
      "33       Talaash          7.2    Hindi\n"
     ]
    }
   ],
   "source": [
    "#code for movie recommendation system\n",
    "import pandas as pd\n",
    "\n",
    "# Load dataset\n",
    "df = pd.read_csv(\"Bollywoodmovies.csv\")\n",
    "\n",
    "# Fill NaN values\n",
    "df['genre'] = df['genre'].fillna('')\n",
    "df['title'] = df['title'].fillna('')\n",
    "df['imdb_rating'] = df['imdb_rating'].fillna(0)\n",
    "df['language'] = df['language'].fillna(0)\n",
    "\n",
    "# Define genre-based recommendation function\n",
    "def get_genre_recommendations(title, n=5):\n",
    "    # Find the selected movie\n",
    "    target = df[df['title'].str.lower() == title.lower()]\n",
    "    \n",
    "    if target.empty:\n",
    "        return f\"Movie titled '{title}' not found in dataset.\"\n",
    "    \n",
    "    genre = target['genre'].values[0]\n",
    "    \n",
    "    # Filter similar genre movies (excluding the selected movie itself)\n",
    "    similar_movies = df[(df['genre'] == genre) & (df['title'].str.lower() != title.lower())]\n",
    "    \n",
    "    # Sort by vote_average and popularity\n",
    "    similar_movies_sorted = similar_movies.sort_values(by=['imdb_rating', 'language'], ascending=False)\n",
    "    \n",
    "    # Return top N\n",
    "    return similar_movies_sorted[['title', 'imdb_rating', 'language']].head(n)\n",
    "\n",
    "# Example usage\n",
    "print(\"Recommended movies similar to 'Drishyam':\")\n",
    "print(get_genre_recommendations(\"Drishyam\", n=8))"
   ]
  }
 ],
 "metadata": {
  "kernelspec": {
   "display_name": ".venv",
   "language": "python",
   "name": "python3"
  },
  "language_info": {
   "codemirror_mode": {
    "name": "ipython",
    "version": 3
   },
   "file_extension": ".py",
   "mimetype": "text/x-python",
   "name": "python",
   "nbconvert_exporter": "python",
   "pygments_lexer": "ipython3",
   "version": "3.12.10"
  }
 },
 "nbformat": 4,
 "nbformat_minor": 5
}
